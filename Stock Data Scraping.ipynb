{
 "cells": [
  {
   "cell_type": "code",
   "execution_count": null,
   "id": "cbf101ca",
   "metadata": {},
   "outputs": [],
   "source": [
    "# pip install yfinance\n",
    "\n",
    "import pandas as pd\n",
    "import yfinance as yf\n",
    "\n",
    "# Set the start and end dates\n",
    "training_start_date = '2014-01-01'\n",
    "training_end_date = '2019-12-31'\n",
    "test_start_date = '2020-01-01'\n",
    "test_end_date = '2022-12-31'\n",
    "\n",
    "# Stock tickers\n",
    "stocks = '^GSPC,AAPL,MSFT,NVDA,INTC,ADBE,CSCO,AMZN,TSLA,HD,NKE,\\\n",
    "    MCD,LOW,GOOGL,META,DIS,CMCSA,VZ,NFLX,V,JPM,\\\n",
    "    MA,BAC,WFC,C,WMT,PG,KO,PEP,COST,PM'\n",
    "\n",
    "# Get closing prices for the training data\n",
    "training_prices = yf.download(stocks, training_start_date, training_end_date, interval='1mo')['Close']\n",
    "training_prices.insert(0, \"Date\", training_prices.index)\n",
    "training_prices.reset_index(drop=True, inplace=True)\n",
    "\n",
    "# Get closing prices for the test data\n",
    "test_prices = yf.download(stocks, test_start_date, test_end_date, interval='1mo')['Close']\n",
    "test_prices.insert(0, \"Date\", test_prices.index)\n",
    "test_prices.reset_index(drop=True, inplace=True)\n",
    "\n",
    "# Export data into csv\n",
    "training_prices.to_csv(\"training.csv\")\n",
    "test_prices.to_csv(\"test.csv\")\n",
    "\n",
    "print(training_prices.head())\n",
    "print(test_prices.head())"
   ]
  },
  {
   "cell_type": "code",
   "execution_count": null,
   "id": "610e9853",
   "metadata": {},
   "outputs": [],
   "source": []
  }
 ],
 "metadata": {
  "kernelspec": {
   "display_name": "Python 3 (ipykernel)",
   "language": "python",
   "name": "python3"
  },
  "language_info": {
   "codemirror_mode": {
    "name": "ipython",
    "version": 3
   },
   "file_extension": ".py",
   "mimetype": "text/x-python",
   "name": "python",
   "nbconvert_exporter": "python",
   "pygments_lexer": "ipython3",
   "version": "3.9.7"
  }
 },
 "nbformat": 4,
 "nbformat_minor": 5
}
